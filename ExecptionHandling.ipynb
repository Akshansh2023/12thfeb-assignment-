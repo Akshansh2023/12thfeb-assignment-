{
 "cells": [
  {
   "attachments": {},
   "cell_type": "markdown",
   "metadata": {},
   "source": [
    "# QUESTION 1\n",
    "What is an Exception in python? Write the difference between Exceptions and Syntax errors."
   ]
  },
  {
   "attachments": {},
   "cell_type": "markdown",
   "metadata": {},
   "source": [
    "#Answer\n",
    "In Python, an Exception is an error that occurs during the execution of a program, which interrupts the normal flow of the program. Exceptions are raised when the interpreter encounters an error that it cannot handle, such as dividing by zero or accessing a non-existent file. When an Exception occurs, Python generates a traceback message that provides information about the location of the error and the sequence of events that led up to it.\n",
    "\n",
    "Syntax errors, on the other hand, occur when the interpreter is unable to parse the code due to a violation of Python syntax rules. These errors are raised during the parsing stage, before the code is executed. Examples of syntax errors include missing parentheses, incorrect indentation, and misspelled keywords.\n",
    "\n",
    "Here's an example of a syntax error in Python:"
   ]
  },
  {
   "cell_type": "code",
   "execution_count": null,
   "metadata": {},
   "outputs": [],
   "source": [
    "print(\"Hello world!\"\n"
   ]
  },
  {
   "cell_type": "markdown",
   "metadata": {},
   "source": [
    "This code will raise a syntax error because the closing parenthesis is missing.\n",
    "\n",
    "Here's an example of an Exception in Python:"
   ]
  },
  {
   "cell_type": "code",
   "execution_count": null,
   "metadata": {},
   "outputs": [],
   "source": [
    "num1 = 10\n",
    "num2 = 0\n",
    "result = num1 / num2\n"
   ]
  },
  {
   "attachments": {},
   "cell_type": "markdown",
   "metadata": {},
   "source": [
    "This code will raise an Exception because we are trying to divide by zero, which is not a valid operation. Python will raise a ZeroDivisionError Exception and provide a traceback message that indicates the location of the error and the sequence of events that led up to it."
   ]
  },
  {
   "attachments": {},
   "cell_type": "markdown",
   "metadata": {},
   "source": [
    "# QUESTION 2\n",
    "Q2. What happens when an exception is not handled? Explain with an example."
   ]
  },
  {
   "attachments": {},
   "cell_type": "markdown",
   "metadata": {},
   "source": [
    "#ANSWER\n",
    "When an exception is not handled in Python, the program will terminate abruptly and generate an error message that includes a traceback of the events leading up to the exception. This can cause the program to crash or behave unexpectedly, as the normal flow of the program is interrupted.\n",
    "\n",
    "here is an example"
   ]
  },
  {
   "cell_type": "code",
   "execution_count": null,
   "metadata": {},
   "outputs": [],
   "source": [
    "try:\n",
    "    file = open(\"example.txt\", \"r\")\n",
    "    contents = file.read()\n",
    "    print(contents)\n",
    "except FileNotFoundError:\n",
    "    print(\"File not found\")\n"
   ]
  },
  {
   "attachments": {},
   "cell_type": "markdown",
   "metadata": {},
   "source": [
    "In this example, we are trying to open a file named \"example.txt\" and read its contents. If the file does not exist, a FileNotFoundError exception will be raised. We are using a try-except block to catch this exception and print a custom error message \"File not found\" to the console. If the file does exist, its contents will be printed to the console."
   ]
  },
  {
   "attachments": {},
   "cell_type": "markdown",
   "metadata": {},
   "source": [
    "# QUESTION 3"
   ]
  },
  {
   "attachments": {},
   "cell_type": "markdown",
   "metadata": {},
   "source": [
    "Q3. Which Python statements are used to catch and handle exceptions? Explain with an example.\n"
   ]
  },
  {
   "cell_type": "markdown",
   "metadata": {},
   "source": [
    "# ANSWER\n",
    "\n",
    "In Python, the try and except statements are used to catch and handle exceptions.\n",
    "\n",
    "The try statement is used to enclose the code that may raise an exception. If an exception occurs within the try block, the program jumps to the corresponding except block to handle the exception.\n",
    "\n",
    "Here's an example:"
   ]
  },
  {
   "cell_type": "code",
   "execution_count": null,
   "metadata": {},
   "outputs": [],
   "source": [
    "try:\n",
    "    num1 = int(input(\"Enter a number: \"))\n",
    "    num2 = int(input(\"Enter another number: \"))\n",
    "    result = num1 / num2\n",
    "    print(\"The result is:\", result)\n",
    "except ZeroDivisionError:\n",
    "    print(\"Error: You cannot divide by zero!\")\n",
    "except ValueError:\n",
    "    print(\"Error: Invalid input. Please enter a valid number.\")\n"
   ]
  },
  {
   "attachments": {},
   "cell_type": "markdown",
   "metadata": {},
   "source": [
    "In this example, the try block prompts the user to enter two numbers and then divides them. If the user enters an invalid input or tries to divide by zero, an exception will be raised. The corresponding except blocks handle the exceptions by printing an error message.\n",
    "\n",
    "The except statement is used to catch a specific exception that may be raised within the try block. In this example, there are two except blocks: one for catching the ZeroDivisionError and another for catching the ValueError.\n",
    "\n",
    "If an exception is raised that is not caught by any of the except blocks, the program will terminate and display an error message.\n",
    "\n",
    "Using try and except statements can make your code more robust and prevent it from crashing when unexpected errors occur. It is always a good practice to handle exceptions in your code to ensure its reliability and stability."
   ]
  },
  {
   "attachments": {},
   "cell_type": "markdown",
   "metadata": {},
   "source": [
    "# Question 4\n",
    "Q4. Explain with an example:\n",
    "a. try and else\n",
    "b. finally\n",
    "c. raise"
   ]
  },
  {
   "attachments": {},
   "cell_type": "markdown",
   "metadata": {},
   "source": [
    "a. try and else are control flow statements in Python that are used to handle exceptions. The try block contains the code that might raise an exception, and the else block contains the code that should be executed if no exception is raised. Here's an example:"
   ]
  },
  {
   "cell_type": "code",
   "execution_count": null,
   "metadata": {},
   "outputs": [],
   "source": [
    "try:\n",
    "    x = int(input(\"Please enter a number: \"))\n",
    "except ValueError:\n",
    "    print(\"Oops! That was not a valid number. Try again...\")\n",
    "else:\n",
    "    print(\"You entered the number:\", x)\n"
   ]
  },
  {
   "cell_type": "markdown",
   "metadata": {},
   "source": [
    "In this example, the try block attempts to convert user input to an integer, which might raise a ValueError if the input is not a valid number. If an exception is raised, the code in the except block is executed. If no exception is raised, the code in the else block is executed.\n",
    "\n",
    "b. finally is another control flow statement in Python that is used to define a block of code that should be executed regardless of whether an exception is raised or not. Here's an example:"
   ]
  },
  {
   "cell_type": "code",
   "execution_count": null,
   "metadata": {},
   "outputs": [],
   "source": [
    "try:\n",
    "    f = open(\"myfile.txt\", \"r\")\n",
    "    # some code to read the file\n",
    "finally:\n",
    "    f.close()\n"
   ]
  },
  {
   "cell_type": "markdown",
   "metadata": {},
   "source": [
    "In this example, the try block attempts to open a file for reading, and some code is executed to read the file. The finally block ensures that the file is closed, whether or not an exception is raised.\n",
    "\n",
    "c. raise is a keyword in Python that is used to raise an exception manually. Here's an example:"
   ]
  },
  {
   "cell_type": "code",
   "execution_count": null,
   "metadata": {},
   "outputs": [],
   "source": [
    "def divide(x, y):\n",
    "    if y == 0:\n",
    "        raise ZeroDivisionError(\"Cannot divide by zero!\")\n",
    "    return x / y\n"
   ]
  },
  {
   "attachments": {},
   "cell_type": "markdown",
   "metadata": {},
   "source": [
    "In this example, the divide function checks if the denominator is zero and raises a ZeroDivisionError with a custom error message if it is. This allows the caller of the function to handle the error in an appropriate way."
   ]
  },
  {
   "cell_type": "markdown",
   "metadata": {},
   "source": [
    "Q5. What are Custom Exceptions in python? Why do we need Custom Exceptions? Explain with an example.\n"
   ]
  },
  {
   "cell_type": "markdown",
   "metadata": {},
   "source": [
    "Custom exceptions are user-defined exceptions in Python that can be raised like built-in exceptions. They are created by subclassing the built-in Exception class or any of its subclasses. Custom exceptions can be raised using the raise keyword, just like built-in exceptions, and can be caught and handled using try-except blocks.\n",
    "\n",
    "We need custom exceptions to provide more meaningful and specific error messages that are relevant to our application domain. They help in identifying the specific error that occurred and can be used to provide context-specific error messages, making it easier to debug and handle errors in our code.\n",
    "\n",
    "Here's an example of creating and using a custom exception:"
   ]
  },
  {
   "cell_type": "code",
   "execution_count": null,
   "metadata": {},
   "outputs": [],
   "source": [
    "class NegativeNumberError(Exception):\n",
    "    \"\"\"Raised when a negative number is encountered\"\"\"\n",
    "\n",
    "    def __init__(self, value):\n",
    "        self.value = value\n",
    "\n",
    "    def __str__(self):\n",
    "        return f\"Error: {self.value} is a negative number\"\n",
    "\n",
    "\n",
    "def calculate_square_root(number):\n",
    "    if number < 0:\n",
    "        raise NegativeNumberError(number)\n",
    "    else:\n",
    "        return number ** 0.5\n",
    "\n",
    "\n",
    "try:\n",
    "    result = calculate_square_root(-4)\n",
    "except NegativeNumberError as e:\n",
    "    print(e)\n",
    "else:\n",
    "    print(\"The square root is:\", result)\n"
   ]
  },
  {
   "attachments": {},
   "cell_type": "markdown",
   "metadata": {},
   "source": [
    "n this example, we define a custom exception called NegativeNumberError that is raised when a negative number is encountered. The __init__ method is used to initialize the exception object with the value that caused the exception, and the __str__ method is used to define the error message.\n",
    "\n",
    "We then define a function called calculate_square_root that checks if the number passed as an argument is negative and raises the NegativeNumberError if it is. Otherwise, it calculates the square root of the number and returns the result.\n",
    "\n",
    "Finally, we use a try-except block to handle the exception that might be raised in the calculate_square_root function. If a NegativeNumberError is raised, we print the error message defined in the exception, and if no exception is raised, we print the result. This helps us handle the error more gracefully and provide a more meaningful error message to the user."
   ]
  },
  {
   "attachments": {},
   "cell_type": "markdown",
   "metadata": {},
   "source": [
    "# Question 6\n",
    "Q6. Createa custom exception class. Use this class to handle an exception."
   ]
  },
  {
   "cell_type": "markdown",
   "metadata": {},
   "source": [
    "Sure, here's an example of creating a custom exception class and using it to handle an exception:"
   ]
  },
  {
   "cell_type": "code",
   "execution_count": null,
   "metadata": {},
   "outputs": [],
   "source": [
    "class NegativeNumberError(Exception):\n",
    "    \"\"\"Raised when a negative number is encountered\"\"\"\n",
    "\n",
    "    def __init__(self, value):\n",
    "        self.value = value\n",
    "\n",
    "    def __str__(self):\n",
    "        return f\"Error: {self.value} is a negative number\"\n",
    "\n",
    "\n",
    "def square_root(number):\n",
    "    if number < 0:\n",
    "        raise NegativeNumberError(number)\n",
    "    else:\n",
    "        return number ** 0.5\n",
    "\n",
    "\n",
    "try:\n",
    "    result = square_root(-4)\n",
    "except NegativeNumberError as e:\n",
    "    print(e)\n",
    "else:\n",
    "    print(\"The square root is:\", result)\n"
   ]
  },
  {
   "cell_type": "markdown",
   "metadata": {},
   "source": [
    "In this example, we define a custom exception class called NegativeNumberError that is raised when a negative number is encountered. The __init__ method is used to initialize the exception object with the value that caused the exception, and the __str__ method is used to define the error message.\n",
    "\n",
    "We then define a function called square_root that checks if the number passed as an argument is negative and raises the NegativeNumberError if it is. Otherwise, it calculates the square root of the number and returns the result."
   ]
  },
  {
   "cell_type": "code",
   "execution_count": null,
   "metadata": {},
   "outputs": [],
   "source": []
  }
 ],
 "metadata": {
  "kernelspec": {
   "display_name": "Python 3",
   "language": "python",
   "name": "python3"
  },
  "language_info": {
   "name": "python",
   "version": "3.11.1"
  },
  "orig_nbformat": 4,
  "vscode": {
   "interpreter": {
    "hash": "f93b20e1d3223fd6eab5e62d4e6188ceec10b61c10ce7642d9451f672963b938"
   }
  }
 },
 "nbformat": 4,
 "nbformat_minor": 2
}
